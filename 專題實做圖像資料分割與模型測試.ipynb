{
  "nbformat": 4,
  "nbformat_minor": 0,
  "metadata": {
    "colab": {
      "name": "專題實做圖像資料分割與模型測試.ipynb",
      "provenance": [],
      "collapsed_sections": [],
      "authorship_tag": "ABX9TyODRxOq8E1qSn+xBazL4ygE",
      "include_colab_link": true
    },
    "kernelspec": {
      "name": "python3",
      "display_name": "Python 3"
    },
    "language_info": {
      "name": "python"
    }
  },
  "cells": [
    {
      "cell_type": "markdown",
      "metadata": {
        "id": "view-in-github",
        "colab_type": "text"
      },
      "source": [
        "<a href=\"https://colab.research.google.com/github/williamchi64/williamchi64/blob/main/%E5%B0%88%E9%A1%8C%E5%AF%A6%E5%81%9A%E5%9C%96%E5%83%8F%E8%B3%87%E6%96%99%E5%88%86%E5%89%B2%E8%88%87%E6%A8%A1%E5%9E%8B%E6%B8%AC%E8%A9%A6.ipynb\" target=\"_parent\"><img src=\"https://colab.research.google.com/assets/colab-badge.svg\" alt=\"Open In Colab\"/></a>"
      ]
    },
    {
      "cell_type": "code",
      "metadata": {
        "colab": {
          "base_uri": "https://localhost:8080/"
        },
        "id": "mzMEHxZtFNG2",
        "outputId": "243e89d1-186b-47f9-a8fc-445a924610b4"
      },
      "source": [
        "!nvidia-smi"
      ],
      "execution_count": null,
      "outputs": [
        {
          "output_type": "stream",
          "text": [
            "NVIDIA-SMI has failed because it couldn't communicate with the NVIDIA driver. Make sure that the latest NVIDIA driver is installed and running.\n",
            "\n"
          ],
          "name": "stdout"
        }
      ]
    },
    {
      "cell_type": "code",
      "metadata": {
        "colab": {
          "base_uri": "https://localhost:8080/"
        },
        "id": "b6UlXpofFZGR",
        "outputId": "482a6e53-94f1-4e59-888e-7e42f8c16dbc"
      },
      "source": [
        "!pip install gdown"
      ],
      "execution_count": null,
      "outputs": [
        {
          "output_type": "stream",
          "text": [
            "Requirement already satisfied: gdown in /usr/local/lib/python3.7/dist-packages (3.6.4)\n",
            "Requirement already satisfied: six in /usr/local/lib/python3.7/dist-packages (from gdown) (1.15.0)\n",
            "Requirement already satisfied: tqdm in /usr/local/lib/python3.7/dist-packages (from gdown) (4.41.1)\n",
            "Requirement already satisfied: requests in /usr/local/lib/python3.7/dist-packages (from gdown) (2.23.0)\n",
            "Requirement already satisfied: chardet<4,>=3.0.2 in /usr/local/lib/python3.7/dist-packages (from requests->gdown) (3.0.4)\n",
            "Requirement already satisfied: idna<3,>=2.5 in /usr/local/lib/python3.7/dist-packages (from requests->gdown) (2.10)\n",
            "Requirement already satisfied: urllib3!=1.25.0,!=1.25.1,<1.26,>=1.21.1 in /usr/local/lib/python3.7/dist-packages (from requests->gdown) (1.24.3)\n",
            "Requirement already satisfied: certifi>=2017.4.17 in /usr/local/lib/python3.7/dist-packages (from requests->gdown) (2020.12.5)\n"
          ],
          "name": "stdout"
        }
      ]
    },
    {
      "cell_type": "code",
      "metadata": {
        "colab": {
          "base_uri": "https://localhost:8080/"
        },
        "id": "hvySL1dbONRw",
        "outputId": "f2b8b2bb-1fd6-4578-d7bc-353ff993a197"
      },
      "source": [
        "!pip install tensorflow_addons"
      ],
      "execution_count": null,
      "outputs": [
        {
          "output_type": "stream",
          "text": [
            "Collecting tensorflow_addons\n",
            "\u001b[?25l  Downloading https://files.pythonhosted.org/packages/74/e3/56d2fe76f0bb7c88ed9b2a6a557e25e83e252aec08f13de34369cd850a0b/tensorflow_addons-0.12.1-cp37-cp37m-manylinux2010_x86_64.whl (703kB)\n",
            "\r\u001b[K     |▌                               | 10kB 12.7MB/s eta 0:00:01\r\u001b[K     |█                               | 20kB 18.0MB/s eta 0:00:01\r\u001b[K     |█▍                              | 30kB 20.8MB/s eta 0:00:01\r\u001b[K     |█▉                              | 40kB 23.4MB/s eta 0:00:01\r\u001b[K     |██▎                             | 51kB 25.5MB/s eta 0:00:01\r\u001b[K     |██▉                             | 61kB 20.7MB/s eta 0:00:01\r\u001b[K     |███▎                            | 71kB 20.6MB/s eta 0:00:01\r\u001b[K     |███▊                            | 81kB 17.2MB/s eta 0:00:01\r\u001b[K     |████▏                           | 92kB 16.4MB/s eta 0:00:01\r\u001b[K     |████▋                           | 102kB 16.7MB/s eta 0:00:01\r\u001b[K     |█████▏                          | 112kB 16.7MB/s eta 0:00:01\r\u001b[K     |█████▋                          | 122kB 16.7MB/s eta 0:00:01\r\u001b[K     |██████                          | 133kB 16.7MB/s eta 0:00:01\r\u001b[K     |██████▌                         | 143kB 16.7MB/s eta 0:00:01\r\u001b[K     |███████                         | 153kB 16.7MB/s eta 0:00:01\r\u001b[K     |███████▌                        | 163kB 16.7MB/s eta 0:00:01\r\u001b[K     |████████                        | 174kB 16.7MB/s eta 0:00:01\r\u001b[K     |████████▍                       | 184kB 16.7MB/s eta 0:00:01\r\u001b[K     |████████▉                       | 194kB 16.7MB/s eta 0:00:01\r\u001b[K     |█████████▎                      | 204kB 16.7MB/s eta 0:00:01\r\u001b[K     |█████████▉                      | 215kB 16.7MB/s eta 0:00:01\r\u001b[K     |██████████▎                     | 225kB 16.7MB/s eta 0:00:01\r\u001b[K     |██████████▊                     | 235kB 16.7MB/s eta 0:00:01\r\u001b[K     |███████████▏                    | 245kB 16.7MB/s eta 0:00:01\r\u001b[K     |███████████▋                    | 256kB 16.7MB/s eta 0:00:01\r\u001b[K     |████████████▏                   | 266kB 16.7MB/s eta 0:00:01\r\u001b[K     |████████████▋                   | 276kB 16.7MB/s eta 0:00:01\r\u001b[K     |█████████████                   | 286kB 16.7MB/s eta 0:00:01\r\u001b[K     |█████████████▌                  | 296kB 16.7MB/s eta 0:00:01\r\u001b[K     |██████████████                  | 307kB 16.7MB/s eta 0:00:01\r\u001b[K     |██████████████▍                 | 317kB 16.7MB/s eta 0:00:01\r\u001b[K     |███████████████                 | 327kB 16.7MB/s eta 0:00:01\r\u001b[K     |███████████████▍                | 337kB 16.7MB/s eta 0:00:01\r\u001b[K     |███████████████▉                | 348kB 16.7MB/s eta 0:00:01\r\u001b[K     |████████████████▎               | 358kB 16.7MB/s eta 0:00:01\r\u001b[K     |████████████████▊               | 368kB 16.7MB/s eta 0:00:01\r\u001b[K     |█████████████████▎              | 378kB 16.7MB/s eta 0:00:01\r\u001b[K     |█████████████████▊              | 389kB 16.7MB/s eta 0:00:01\r\u001b[K     |██████████████████▏             | 399kB 16.7MB/s eta 0:00:01\r\u001b[K     |██████████████████▋             | 409kB 16.7MB/s eta 0:00:01\r\u001b[K     |███████████████████             | 419kB 16.7MB/s eta 0:00:01\r\u001b[K     |███████████████████▋            | 430kB 16.7MB/s eta 0:00:01\r\u001b[K     |████████████████████            | 440kB 16.7MB/s eta 0:00:01\r\u001b[K     |████████████████████▌           | 450kB 16.7MB/s eta 0:00:01\r\u001b[K     |█████████████████████           | 460kB 16.7MB/s eta 0:00:01\r\u001b[K     |█████████████████████▍          | 471kB 16.7MB/s eta 0:00:01\r\u001b[K     |██████████████████████          | 481kB 16.7MB/s eta 0:00:01\r\u001b[K     |██████████████████████▍         | 491kB 16.7MB/s eta 0:00:01\r\u001b[K     |██████████████████████▉         | 501kB 16.7MB/s eta 0:00:01\r\u001b[K     |███████████████████████▎        | 512kB 16.7MB/s eta 0:00:01\r\u001b[K     |███████████████████████▊        | 522kB 16.7MB/s eta 0:00:01\r\u001b[K     |████████████████████████▎       | 532kB 16.7MB/s eta 0:00:01\r\u001b[K     |████████████████████████▊       | 542kB 16.7MB/s eta 0:00:01\r\u001b[K     |█████████████████████████▏      | 552kB 16.7MB/s eta 0:00:01\r\u001b[K     |█████████████████████████▋      | 563kB 16.7MB/s eta 0:00:01\r\u001b[K     |██████████████████████████      | 573kB 16.7MB/s eta 0:00:01\r\u001b[K     |██████████████████████████▋     | 583kB 16.7MB/s eta 0:00:01\r\u001b[K     |███████████████████████████     | 593kB 16.7MB/s eta 0:00:01\r\u001b[K     |███████████████████████████▌    | 604kB 16.7MB/s eta 0:00:01\r\u001b[K     |████████████████████████████    | 614kB 16.7MB/s eta 0:00:01\r\u001b[K     |████████████████████████████▍   | 624kB 16.7MB/s eta 0:00:01\r\u001b[K     |████████████████████████████▉   | 634kB 16.7MB/s eta 0:00:01\r\u001b[K     |█████████████████████████████▍  | 645kB 16.7MB/s eta 0:00:01\r\u001b[K     |█████████████████████████████▉  | 655kB 16.7MB/s eta 0:00:01\r\u001b[K     |██████████████████████████████▎ | 665kB 16.7MB/s eta 0:00:01\r\u001b[K     |██████████████████████████████▊ | 675kB 16.7MB/s eta 0:00:01\r\u001b[K     |███████████████████████████████▏| 686kB 16.7MB/s eta 0:00:01\r\u001b[K     |███████████████████████████████▊| 696kB 16.7MB/s eta 0:00:01\r\u001b[K     |████████████████████████████████| 706kB 16.7MB/s \n",
            "\u001b[?25hRequirement already satisfied: typeguard>=2.7 in /usr/local/lib/python3.7/dist-packages (from tensorflow_addons) (2.7.1)\n",
            "Installing collected packages: tensorflow-addons\n",
            "Successfully installed tensorflow-addons-0.12.1\n"
          ],
          "name": "stdout"
        }
      ]
    },
    {
      "cell_type": "code",
      "metadata": {
        "colab": {
          "base_uri": "https://localhost:8080/"
        },
        "id": "poXCe2pZFjIQ",
        "outputId": "85e128a0-2bfd-4f4b-edd0-528aa349e7c3"
      },
      "source": [
        "!wget -P /content/datasets https://data.vision.ee.ethz.ch/cvl/rrothe/imdb-wiki/static/wiki_crop.tar\n",
        "!tar -xf /content/datasets/wiki_crop.tar"
      ],
      "execution_count": null,
      "outputs": [
        {
          "output_type": "stream",
          "text": [
            "--2021-05-10 16:50:51--  https://data.vision.ee.ethz.ch/cvl/rrothe/imdb-wiki/static/wiki_crop.tar\n",
            "Resolving data.vision.ee.ethz.ch (data.vision.ee.ethz.ch)... 129.132.52.178, 2001:67c:10ec:36c2::178\n",
            "Connecting to data.vision.ee.ethz.ch (data.vision.ee.ethz.ch)|129.132.52.178|:443... connected.\n",
            "HTTP request sent, awaiting response... 200 OK\n",
            "Length: 811315200 (774M) [application/x-tar]\n",
            "Saving to: ‘/content/datasets/wiki_crop.tar’\n",
            "\n",
            "wiki_crop.tar       100%[===================>] 773.73M  30.6MB/s    in 27s     \n",
            "\n",
            "2021-05-10 16:51:18 (29.1 MB/s) - ‘/content/datasets/wiki_crop.tar’ saved [811315200/811315200]\n",
            "\n"
          ],
          "name": "stdout"
        }
      ]
    },
    {
      "cell_type": "code",
      "metadata": {
        "colab": {
          "base_uri": "https://localhost:8080/"
        },
        "id": "I7OTWzUKFm2f",
        "outputId": "28b61790-3a0f-4c6a-cf5c-9ddcb8b9d90f"
      },
      "source": [
        "!wget -O /content/datasets/wiki_final.csv drive.google.com/u/0/uc?id=1PDzAXHQWbHWQ4UxPLY8F13eTICWeyJGP&export=download"
      ],
      "execution_count": null,
      "outputs": [
        {
          "output_type": "stream",
          "text": [
            "--2021-05-10 16:51:23--  http://drive.google.com/u/0/uc?id=1PDzAXHQWbHWQ4UxPLY8F13eTICWeyJGP\n",
            "Resolving drive.google.com (drive.google.com)... 142.250.65.78, 2607:f8b0:4004:832::200e\n",
            "Connecting to drive.google.com (drive.google.com)|142.250.65.78|:80... connected.\n",
            "HTTP request sent, awaiting response... 302 Moved Temporarily\n",
            "Location: https://drive.google.com/u/0/uc?id=1PDzAXHQWbHWQ4UxPLY8F13eTICWeyJGP [following]\n",
            "--2021-05-10 16:51:23--  https://drive.google.com/u/0/uc?id=1PDzAXHQWbHWQ4UxPLY8F13eTICWeyJGP\n",
            "Connecting to drive.google.com (drive.google.com)|142.250.65.78|:443... connected.\n",
            "HTTP request sent, awaiting response... 302 Moved Temporarily\n",
            "Location: https://doc-14-0s-docs.googleusercontent.com/docs/securesc/ha0ro937gcuc7l7deffksulhg5h7mbp1/3t4vffp8f9o2hmdb6ccn7f7a0kr7g6d5/1620665475000/01254859074079537426/*/1PDzAXHQWbHWQ4UxPLY8F13eTICWeyJGP [following]\n",
            "Warning: wildcards not supported in HTTP.\n",
            "--2021-05-10 16:51:25--  https://doc-14-0s-docs.googleusercontent.com/docs/securesc/ha0ro937gcuc7l7deffksulhg5h7mbp1/3t4vffp8f9o2hmdb6ccn7f7a0kr7g6d5/1620665475000/01254859074079537426/*/1PDzAXHQWbHWQ4UxPLY8F13eTICWeyJGP\n",
            "Resolving doc-14-0s-docs.googleusercontent.com (doc-14-0s-docs.googleusercontent.com)... 142.251.33.193, 2607:f8b0:4004:837::2001\n",
            "Connecting to doc-14-0s-docs.googleusercontent.com (doc-14-0s-docs.googleusercontent.com)|142.251.33.193|:443... connected.\n",
            "HTTP request sent, awaiting response... 200 OK\n",
            "Length: 2001886 (1.9M) [text/csv]\n",
            "Saving to: ‘/content/datasets/wiki_final.csv’\n",
            "\n",
            "/content/datasets/w 100%[===================>]   1.91M  --.-KB/s    in 0.05s   \n",
            "\n",
            "2021-05-10 16:51:26 (36.7 MB/s) - ‘/content/datasets/wiki_final.csv’ saved [2001886/2001886]\n",
            "\n"
          ],
          "name": "stdout"
        }
      ]
    },
    {
      "cell_type": "code",
      "metadata": {
        "id": "m_vja-1mGLIS"
      },
      "source": [
        "# IMDE image 人臉資料集來源: https://data.vision.ee.ethz.ch/cvl/rrothe/imdb-wiki/\n",
        "\n",
        "import matplotlib.pyplot as plt\n",
        "import cv2\n",
        "import pandas as pd\n",
        "import os \n",
        "import numpy as np\n",
        "from tqdm import tqdm\n",
        "import glob\n",
        "import random\n",
        "\n",
        "from sklearn.model_selection import train_test_split\n",
        "import tensorflow as tf\n",
        "from tensorflow import keras\n",
        "from tensorflow.keras.models import Model, load_model\n",
        "from tensorflow.keras.layers import (Input, Dense, Dropout,\n",
        "                    Activation, Flatten, Conv2D,GlobalAveragePooling2D,\n",
        "                    MaxPooling2D)\n",
        "from tensorflow.keras.callbacks import LearningRateScheduler,EarlyStopping, ModelCheckpoint\n",
        "from tensorflow.keras.preprocessing.image import ImageDataGenerator\n",
        "from tensorflow.keras.applications.inception_v3 import InceptionV3,preprocess_input\n",
        "\n",
        "import tensorflow_addons as tfa"
      ],
      "execution_count": null,
      "outputs": []
    },
    {
      "cell_type": "code",
      "metadata": {
        "colab": {
          "base_uri": "https://localhost:8080/"
        },
        "id": "SFMSuMRWGAkI",
        "outputId": "95570b6c-e60d-401e-f981-420c3bc50706"
      },
      "source": [
        "wiki = pd.read_csv('/content/datasets/wiki_final.csv')\n",
        "wiki.info()"
      ],
      "execution_count": null,
      "outputs": [
        {
          "output_type": "stream",
          "text": [
            "<class 'pandas.core.frame.DataFrame'>\n",
            "RangeIndex: 44183 entries, 0 to 44182\n",
            "Data columns (total 4 columns):\n",
            " #   Column        Non-Null Count  Dtype  \n",
            "---  ------        --------------  -----  \n",
            " 0   year          44183 non-null  int64  \n",
            " 1   photo_takens  44183 non-null  int64  \n",
            " 2   path          44183 non-null  object \n",
            " 3   gender        44183 non-null  float64\n",
            "dtypes: float64(1), int64(2), object(1)\n",
            "memory usage: 1.3+ MB\n"
          ],
          "name": "stdout"
        }
      ]
    },
    {
      "cell_type": "code",
      "metadata": {
        "id": "AilLJCZWFvhJ"
      },
      "source": [
        "def imagepath(index):\n",
        "  index = index\n",
        "  # print(wiki.iloc[index,:])\n",
        "  path = os.path.join('/content/wiki_crop', wiki.iloc[index,2])\n",
        "  return path"
      ],
      "execution_count": null,
      "outputs": []
    },
    {
      "cell_type": "code",
      "metadata": {
        "id": "MX7DqZ87GIUC"
      },
      "source": [
        "def imgprocess(size,columns,sample_num):\n",
        "  imgs = list()\n",
        "  lbls = list()\n",
        "  count = len(wiki[columns].unique())\n",
        "  size = size\n",
        "  for i in tqdm((sample_num), position=0, leave=True):\n",
        "    img = cv2.imread(imagepath(i))\n",
        "    img = cv2.resize(img, size)\n",
        "    imgs.append(img)\n",
        "    lbl = int(wiki[columns][i])\n",
        "    lbl_onehot = np.zeros(count,dtype=float)\n",
        "    lbl_onehot[lbl] = 1\n",
        "    lbls.append(lbl_onehot)\n",
        "  imgs = np.array(imgs)\n",
        "  lbls = np.array(lbls)\n",
        "  return {'images':imgs,'labels':lbls}"
      ],
      "execution_count": null,
      "outputs": []
    },
    {
      "cell_type": "code",
      "metadata": {
        "id": "st653bVwGT-1"
      },
      "source": [
        "# data index for random choosing\n",
        "index_female = wiki[wiki['gender']==0].index\n",
        "index_male = wiki[wiki['gender']==1].index\n",
        "random_female = random.sample(list(index_female), 2000)\n",
        "random_male = random.sample(list(index_male), 2000)\n",
        "random_sample = random_female + random_male"
      ],
      "execution_count": null,
      "outputs": []
    },
    {
      "cell_type": "code",
      "metadata": {
        "colab": {
          "base_uri": "https://localhost:8080/"
        },
        "id": "-fHkdSviGYML",
        "outputId": "c287bdf8-bf30-4933-e36b-451c39da65c3"
      },
      "source": [
        "data = imgprocess((299,299),'gender',random_sample)"
      ],
      "execution_count": null,
      "outputs": [
        {
          "output_type": "stream",
          "text": [
            "100%|██████████| 4000/4000 [00:16<00:00, 248.29it/s]\n"
          ],
          "name": "stderr"
        }
      ]
    },
    {
      "cell_type": "code",
      "metadata": {
        "id": "nFXPtAD1GaKD"
      },
      "source": [
        "x_train, x_test, y_train, y_test = train_test_split(data['images'],data['labels'],test_size=0.2, random_state=500)\n",
        "x_train, x_val, y_train, y_val = train_test_split(x_train,y_train,test_size=0.2, random_state=500)"
      ],
      "execution_count": null,
      "outputs": []
    },
    {
      "cell_type": "code",
      "metadata": {
        "id": "ImV2URVrGbdE"
      },
      "source": [
        "del data"
      ],
      "execution_count": null,
      "outputs": []
    },
    {
      "cell_type": "code",
      "metadata": {
        "colab": {
          "base_uri": "https://localhost:8080/"
        },
        "id": "EsBirV2rGe07",
        "outputId": "d04d722f-7c48-40cd-db84-3288f4879b33"
      },
      "source": [
        "!mkdir model-old\n",
        "!gdown -O /content/model-old/inceptionV3_241.h5  https://drive.google.com/uc?id=1sxas71-rtKfd3tovyYf1FdtHoL6IJ4Bq\n",
        "!gdown -O /content/model-old/inceptionV3_216.h5 https://drive.google.com/uc?id=1P0oPF7J-3dpfmWWrIcTA-CKiaWy699kR\n",
        "!gdown -O /content/model-old/inceptionV3_0.h5 https://drive.google.com/uc?id=150_X4rkaHUJdUPtlEiFIOMfIazFbyTiW\n",
        "!gdown -O /content/model-old/inceptionV3_-47.h5 https://drive.google.com/uc?id=1rpNF7665obvwbA9pAdnx6pHHwNn-3CG4\n",
        "!gdown -O /content/model-old/inceptionV3_-43.h5 https://drive.google.com/uc?id=1VXkaTvmRHLozLcndv7NIqjr2GTSoXQSo\n",
        "!gdown -O /content/model-old/inceptionV3.h5 https://drive.google.com/uc?id=1Va4prDpkot0K3sntwUrjQDYLB3POP9i2\n",
        "!gdown -O /content/model-old/inceptionV3_1.h5 https://drive.google.com/uc?id=1f19b-rSSnWfPonBTZS06NsZzHKQvMFSY\n",
        "!gdown -O /content/model-old/inceptionresnetV2.h5 https://drive.google.com/uc?id=1zXw0907GLvXiHwXiLpgXrZsdoNUu87mI"
      ],
      "execution_count": null,
      "outputs": [
        {
          "output_type": "stream",
          "text": [
            "Downloading...\n",
            "From: https://drive.google.com/uc?id=1sxas71-rtKfd3tovyYf1FdtHoL6IJ4Bq\n",
            "To: /content/model-old/inceptionV3_241.h5\n",
            "199MB [00:04, 40.7MB/s]\n",
            "Downloading...\n",
            "From: https://drive.google.com/uc?id=1P0oPF7J-3dpfmWWrIcTA-CKiaWy699kR\n",
            "To: /content/model-old/inceptionV3_216.h5\n",
            "199MB [00:04, 46.5MB/s]\n",
            "Downloading...\n",
            "From: https://drive.google.com/uc?id=150_X4rkaHUJdUPtlEiFIOMfIazFbyTiW\n",
            "To: /content/model-old/inceptionV3_0.h5\n",
            "140MB [00:04, 34.6MB/s]\n",
            "Downloading...\n",
            "From: https://drive.google.com/uc?id=1rpNF7665obvwbA9pAdnx6pHHwNn-3CG4\n",
            "To: /content/model-old/inceptionV3_-47.h5\n",
            "140MB [00:02, 50.6MB/s]\n",
            "Downloading...\n",
            "From: https://drive.google.com/uc?id=1VXkaTvmRHLozLcndv7NIqjr2GTSoXQSo\n",
            "To: /content/model-old/inceptionV3_-43.h5\n",
            "140MB [00:03, 46.4MB/s]\n",
            "Downloading...\n",
            "From: https://drive.google.com/uc?id=1Va4prDpkot0K3sntwUrjQDYLB3POP9i2\n",
            "To: /content/model-old/inceptionV3.h5\n",
            "89.7MB [00:01, 49.1MB/s]\n",
            "Downloading...\n",
            "From: https://drive.google.com/uc?id=1f19b-rSSnWfPonBTZS06NsZzHKQvMFSY\n",
            "To: /content/model-old/inceptionV3_1.h5\n",
            "199MB [00:04, 45.2MB/s]\n",
            "Downloading...\n",
            "From: https://drive.google.com/uc?id=1zXw0907GLvXiHwXiLpgXrZsdoNUu87mI\n",
            "To: /content/model-old/inceptionresnetV2.h5\n",
            "246MB [00:04, 49.5MB/s]\n"
          ],
          "name": "stdout"
        }
      ]
    },
    {
      "cell_type": "code",
      "metadata": {
        "id": "oZYX0LbRHFXn"
      },
      "source": [
        "def to1Dtensor(y_input):\n",
        "  y_list = []\n",
        "  y_onehot = np.round(y_input)\n",
        "  n_class = len(y_onehot[:][0])\n",
        "  for j in y_onehot:\n",
        "    for i in range(n_class):\n",
        "      if j[i] == 1:\n",
        "        y_list.append(i)\n",
        "  return y_list"
      ],
      "execution_count": null,
      "outputs": []
    },
    {
      "cell_type": "code",
      "metadata": {
        "id": "16x0MZL4G0jg"
      },
      "source": [
        "batch_size = 32"
      ],
      "execution_count": null,
      "outputs": []
    },
    {
      "cell_type": "code",
      "metadata": {
        "colab": {
          "base_uri": "https://localhost:8080/",
          "height": 1000
        },
        "id": "8ILbR7_jGsCd",
        "outputId": "5cc235aa-f482-4fc2-d2c0-bfe973771623"
      },
      "source": [
        "h5list = ['inceptionV3','inceptionV3_-43','inceptionV3_-47','inceptionV3_0','inceptionV3_1','inceptionV3_216','inceptionV3_241']\n",
        "y_test_1D = to1Dtensor(y_test)\n",
        "for h5 in h5list:\n",
        "  test_datagen = ImageDataGenerator(preprocessing_function=preprocess_input)\n",
        "  test_data = test_datagen.flow(x_test,y_test,batch_size=batch_size)\n",
        "  test = load_model(f'/content/model-old/{h5}.h5')\n",
        "  loss,acc = test.evaluate_generator(test_data, verbose=1)\n",
        "  print(f'{h5}_loss:{loss}_accuracy:{acc}')\n",
        "  predictions = test.predict(x=preprocess_input(x_test), verbose=1)\n",
        "  pred_1D = to1Dtensor(predictions)\n",
        "  cm = tf.math.confusion_matrix(y_test_1D, pred_1D, num_classes=2, weights=None, dtype=tf.dtypes.int32, name=h5)\n",
        "  print(f'{h5}_confusion_matrix:{cm}')\n",
        "  metric = tfa.metrics.F1Score(num_classes=1,threshold=0.5)\n",
        "  y_t = np.array(y_test_1D).reshape(len(y_test_1D),1)\n",
        "  y_p = np.array(pred_1D).reshape(len(pred_1D),1)\n",
        "  metric.update_state(y_t, y_p)\n",
        "  result=metric.result()\n",
        "  print(f'{h5}_F1_score:{result.numpy()}')"
      ],
      "execution_count": null,
      "outputs": [
        {
          "output_type": "stream",
          "text": [
            "/usr/local/lib/python3.7/dist-packages/tensorflow/python/keras/engine/training.py:1877: UserWarning: `Model.evaluate_generator` is deprecated and will be removed in a future version. Please use `Model.evaluate`, which supports generators.\n",
            "  warnings.warn('`Model.evaluate_generator` is deprecated and '\n"
          ],
          "name": "stderr"
        },
        {
          "output_type": "stream",
          "text": [
            "25/25 [==============================] - 146s 6s/step - loss: 0.3468 - accuracy: 0.8537\n",
            "inceptionV3_loss:0.3468235731124878_accuracy:0.8537499904632568\n",
            "25/25 [==============================] - 146s 6s/step\n",
            "inceptionV3_confusion_matrix:[[306  80]\n",
            " [ 37 377]]\n",
            "inceptionV3_F1_score:[0.86567163]\n",
            "25/25 [==============================] - 147s 6s/step - loss: 0.7363 - accuracy: 0.8612\n",
            "inceptionV3_-43_loss:0.7362817525863647_accuracy:0.8612499833106995\n",
            "25/25 [==============================] - 146s 6s/step\n",
            "inceptionV3_-43_confusion_matrix:[[296  90]\n",
            " [ 21 393]]\n",
            "inceptionV3_-43_F1_score:[0.87625426]\n",
            "25/25 [==============================] - 147s 6s/step - loss: 1.0174 - accuracy: 0.8562\n",
            "inceptionV3_-47_loss:1.0174360275268555_accuracy:0.856249988079071\n",
            "25/25 [==============================] - 146s 6s/step\n",
            "inceptionV3_-47_confusion_matrix:[[279 107]\n",
            " [  8 406]]\n",
            "inceptionV3_-47_F1_score:[0.8759439]\n",
            "WARNING:tensorflow:Error in loading the saved optimizer state. As a result, your model is starting with a freshly initialized optimizer.\n",
            "25/25 [==============================] - 147s 6s/step - loss: 0.9097 - accuracy: 0.8775\n",
            "inceptionV3_0_loss:0.9096837639808655_accuracy:0.8774999976158142\n",
            "25/25 [==============================] - 146s 6s/step\n",
            "inceptionV3_0_confusion_matrix:[[301  85]\n",
            " [ 13 401]]\n",
            "inceptionV3_0_F1_score:[0.8911111]\n",
            "25/25 [==============================] - 147s 6s/step - loss: 0.4041 - accuracy: 0.8838\n",
            "inceptionV3_1_loss:0.40412864089012146_accuracy:0.8837500214576721\n",
            "25/25 [==============================] - 146s 6s/step\n",
            "inceptionV3_1_confusion_matrix:[[359  27]\n",
            " [ 66 348]]\n",
            "inceptionV3_1_F1_score:[0.8821292]\n",
            "25/25 [==============================] - 147s 6s/step - loss: 0.8213 - accuracy: 0.8288\n",
            "inceptionV3_216_loss:0.8212812542915344_accuracy:0.8287500143051147\n",
            "25/25 [==============================] - 145s 6s/step\n",
            "inceptionV3_216_confusion_matrix:[[259 127]\n",
            " [ 10 404]]\n",
            "inceptionV3_216_F1_score:[0.85502636]\n",
            "WARNING:tensorflow:Error in loading the saved optimizer state. As a result, your model is starting with a freshly initialized optimizer.\n",
            "25/25 [==============================] - 146s 6s/step - loss: 0.7489 - accuracy: 0.8550\n",
            "inceptionV3_241_loss:0.7488667368888855_accuracy:0.8550000190734863\n",
            "25/25 [==============================] - 146s 6s/step\n",
            "inceptionV3_241_confusion_matrix:[[276 110]\n",
            " [  6 408]]\n",
            "inceptionV3_241_F1_score:[0.8755365]\n",
            "25/25 [==============================] - 340s 13s/step - loss: 0.5601 - accuracy: 0.6875\n",
            "inceptionresnetV2_loss:0.5600536465644836_accuracy:0.6875\n"
          ],
          "name": "stdout"
        },
        {
          "output_type": "error",
          "ename": "ValueError",
          "evalue": "ignored",
          "traceback": [
            "\u001b[0;31m---------------------------------------------------------------------------\u001b[0m",
            "\u001b[0;31mValueError\u001b[0m                                Traceback (most recent call last)",
            "\u001b[0;32m<ipython-input-79-e997e70ee347>\u001b[0m in \u001b[0;36m<module>\u001b[0;34m()\u001b[0m\n\u001b[1;32m      7\u001b[0m   \u001b[0mloss\u001b[0m\u001b[0;34m,\u001b[0m\u001b[0macc\u001b[0m \u001b[0;34m=\u001b[0m \u001b[0mtest\u001b[0m\u001b[0;34m.\u001b[0m\u001b[0mevaluate_generator\u001b[0m\u001b[0;34m(\u001b[0m\u001b[0mtest_data\u001b[0m\u001b[0;34m,\u001b[0m \u001b[0mverbose\u001b[0m\u001b[0;34m=\u001b[0m\u001b[0;36m1\u001b[0m\u001b[0;34m)\u001b[0m\u001b[0;34m\u001b[0m\u001b[0;34m\u001b[0m\u001b[0m\n\u001b[1;32m      8\u001b[0m   \u001b[0mprint\u001b[0m\u001b[0;34m(\u001b[0m\u001b[0;34mf'{h5}_loss:{loss}_accuracy:{acc}'\u001b[0m\u001b[0;34m)\u001b[0m\u001b[0;34m\u001b[0m\u001b[0;34m\u001b[0m\u001b[0m\n\u001b[0;32m----> 9\u001b[0;31m   \u001b[0mpredictions\u001b[0m \u001b[0;34m=\u001b[0m \u001b[0mtest\u001b[0m\u001b[0;34m.\u001b[0m\u001b[0mpredict\u001b[0m\u001b[0;34m(\u001b[0m\u001b[0mx\u001b[0m\u001b[0;34m=\u001b[0m\u001b[0mpreprocess_input\u001b[0m\u001b[0;34m(\u001b[0m\u001b[0mx_test\u001b[0m\u001b[0;34m)\u001b[0m\u001b[0;34m,\u001b[0m \u001b[0mverbose\u001b[0m\u001b[0;34m=\u001b[0m\u001b[0;36m1\u001b[0m\u001b[0;34m)\u001b[0m\u001b[0;34m\u001b[0m\u001b[0;34m\u001b[0m\u001b[0m\n\u001b[0m\u001b[1;32m     10\u001b[0m   \u001b[0mpred_1D\u001b[0m \u001b[0;34m=\u001b[0m \u001b[0mto1Dtensor\u001b[0m\u001b[0;34m(\u001b[0m\u001b[0mpredictions\u001b[0m\u001b[0;34m)\u001b[0m\u001b[0;34m\u001b[0m\u001b[0;34m\u001b[0m\u001b[0m\n\u001b[1;32m     11\u001b[0m   \u001b[0mcm\u001b[0m \u001b[0;34m=\u001b[0m \u001b[0mtf\u001b[0m\u001b[0;34m.\u001b[0m\u001b[0mmath\u001b[0m\u001b[0;34m.\u001b[0m\u001b[0mconfusion_matrix\u001b[0m\u001b[0;34m(\u001b[0m\u001b[0my_test_1D\u001b[0m\u001b[0;34m,\u001b[0m \u001b[0mpred_1D\u001b[0m\u001b[0;34m,\u001b[0m \u001b[0mnum_classes\u001b[0m\u001b[0;34m=\u001b[0m\u001b[0;36m2\u001b[0m\u001b[0;34m,\u001b[0m \u001b[0mweights\u001b[0m\u001b[0;34m=\u001b[0m\u001b[0;32mNone\u001b[0m\u001b[0;34m,\u001b[0m \u001b[0mdtype\u001b[0m\u001b[0;34m=\u001b[0m\u001b[0mtf\u001b[0m\u001b[0;34m.\u001b[0m\u001b[0mdtypes\u001b[0m\u001b[0;34m.\u001b[0m\u001b[0mint32\u001b[0m\u001b[0;34m,\u001b[0m \u001b[0mname\u001b[0m\u001b[0;34m=\u001b[0m\u001b[0mh5\u001b[0m\u001b[0;34m)\u001b[0m\u001b[0;34m\u001b[0m\u001b[0;34m\u001b[0m\u001b[0m\n",
            "\u001b[0;32m/usr/local/lib/python3.7/dist-packages/tensorflow/python/keras/engine/training.py\u001b[0m in \u001b[0;36mpredict\u001b[0;34m(self, x, batch_size, verbose, steps, callbacks, max_queue_size, workers, use_multiprocessing)\u001b[0m\n\u001b[1;32m   1627\u001b[0m           \u001b[0;32mfor\u001b[0m \u001b[0mstep\u001b[0m \u001b[0;32min\u001b[0m \u001b[0mdata_handler\u001b[0m\u001b[0;34m.\u001b[0m\u001b[0msteps\u001b[0m\u001b[0;34m(\u001b[0m\u001b[0;34m)\u001b[0m\u001b[0;34m:\u001b[0m\u001b[0;34m\u001b[0m\u001b[0;34m\u001b[0m\u001b[0m\n\u001b[1;32m   1628\u001b[0m             \u001b[0mcallbacks\u001b[0m\u001b[0;34m.\u001b[0m\u001b[0mon_predict_batch_begin\u001b[0m\u001b[0;34m(\u001b[0m\u001b[0mstep\u001b[0m\u001b[0;34m)\u001b[0m\u001b[0;34m\u001b[0m\u001b[0;34m\u001b[0m\u001b[0m\n\u001b[0;32m-> 1629\u001b[0;31m             \u001b[0mtmp_batch_outputs\u001b[0m \u001b[0;34m=\u001b[0m \u001b[0mself\u001b[0m\u001b[0;34m.\u001b[0m\u001b[0mpredict_function\u001b[0m\u001b[0;34m(\u001b[0m\u001b[0miterator\u001b[0m\u001b[0;34m)\u001b[0m\u001b[0;34m\u001b[0m\u001b[0;34m\u001b[0m\u001b[0m\n\u001b[0m\u001b[1;32m   1630\u001b[0m             \u001b[0;32mif\u001b[0m \u001b[0mdata_handler\u001b[0m\u001b[0;34m.\u001b[0m\u001b[0mshould_sync\u001b[0m\u001b[0;34m:\u001b[0m\u001b[0;34m\u001b[0m\u001b[0;34m\u001b[0m\u001b[0m\n\u001b[1;32m   1631\u001b[0m               \u001b[0mcontext\u001b[0m\u001b[0;34m.\u001b[0m\u001b[0masync_wait\u001b[0m\u001b[0;34m(\u001b[0m\u001b[0;34m)\u001b[0m\u001b[0;34m\u001b[0m\u001b[0;34m\u001b[0m\u001b[0m\n",
            "\u001b[0;32m/usr/local/lib/python3.7/dist-packages/tensorflow/python/eager/def_function.py\u001b[0m in \u001b[0;36m__call__\u001b[0;34m(self, *args, **kwds)\u001b[0m\n\u001b[1;32m    826\u001b[0m     \u001b[0mtracing_count\u001b[0m \u001b[0;34m=\u001b[0m \u001b[0mself\u001b[0m\u001b[0;34m.\u001b[0m\u001b[0mexperimental_get_tracing_count\u001b[0m\u001b[0;34m(\u001b[0m\u001b[0;34m)\u001b[0m\u001b[0;34m\u001b[0m\u001b[0;34m\u001b[0m\u001b[0m\n\u001b[1;32m    827\u001b[0m     \u001b[0;32mwith\u001b[0m \u001b[0mtrace\u001b[0m\u001b[0;34m.\u001b[0m\u001b[0mTrace\u001b[0m\u001b[0;34m(\u001b[0m\u001b[0mself\u001b[0m\u001b[0;34m.\u001b[0m\u001b[0m_name\u001b[0m\u001b[0;34m)\u001b[0m \u001b[0;32mas\u001b[0m \u001b[0mtm\u001b[0m\u001b[0;34m:\u001b[0m\u001b[0;34m\u001b[0m\u001b[0;34m\u001b[0m\u001b[0m\n\u001b[0;32m--> 828\u001b[0;31m       \u001b[0mresult\u001b[0m \u001b[0;34m=\u001b[0m \u001b[0mself\u001b[0m\u001b[0;34m.\u001b[0m\u001b[0m_call\u001b[0m\u001b[0;34m(\u001b[0m\u001b[0;34m*\u001b[0m\u001b[0margs\u001b[0m\u001b[0;34m,\u001b[0m \u001b[0;34m**\u001b[0m\u001b[0mkwds\u001b[0m\u001b[0;34m)\u001b[0m\u001b[0;34m\u001b[0m\u001b[0;34m\u001b[0m\u001b[0m\n\u001b[0m\u001b[1;32m    829\u001b[0m       \u001b[0mcompiler\u001b[0m \u001b[0;34m=\u001b[0m \u001b[0;34m\"xla\"\u001b[0m \u001b[0;32mif\u001b[0m \u001b[0mself\u001b[0m\u001b[0;34m.\u001b[0m\u001b[0m_experimental_compile\u001b[0m \u001b[0;32melse\u001b[0m \u001b[0;34m\"nonXla\"\u001b[0m\u001b[0;34m\u001b[0m\u001b[0;34m\u001b[0m\u001b[0m\n\u001b[1;32m    830\u001b[0m       \u001b[0mnew_tracing_count\u001b[0m \u001b[0;34m=\u001b[0m \u001b[0mself\u001b[0m\u001b[0;34m.\u001b[0m\u001b[0mexperimental_get_tracing_count\u001b[0m\u001b[0;34m(\u001b[0m\u001b[0;34m)\u001b[0m\u001b[0;34m\u001b[0m\u001b[0;34m\u001b[0m\u001b[0m\n",
            "\u001b[0;32m/usr/local/lib/python3.7/dist-packages/tensorflow/python/eager/def_function.py\u001b[0m in \u001b[0;36m_call\u001b[0;34m(self, *args, **kwds)\u001b[0m\n\u001b[1;32m    869\u001b[0m       \u001b[0;31m# This is the first call of __call__, so we have to initialize.\u001b[0m\u001b[0;34m\u001b[0m\u001b[0;34m\u001b[0m\u001b[0;34m\u001b[0m\u001b[0m\n\u001b[1;32m    870\u001b[0m       \u001b[0minitializers\u001b[0m \u001b[0;34m=\u001b[0m \u001b[0;34m[\u001b[0m\u001b[0;34m]\u001b[0m\u001b[0;34m\u001b[0m\u001b[0;34m\u001b[0m\u001b[0m\n\u001b[0;32m--> 871\u001b[0;31m       \u001b[0mself\u001b[0m\u001b[0;34m.\u001b[0m\u001b[0m_initialize\u001b[0m\u001b[0;34m(\u001b[0m\u001b[0margs\u001b[0m\u001b[0;34m,\u001b[0m \u001b[0mkwds\u001b[0m\u001b[0;34m,\u001b[0m \u001b[0madd_initializers_to\u001b[0m\u001b[0;34m=\u001b[0m\u001b[0minitializers\u001b[0m\u001b[0;34m)\u001b[0m\u001b[0;34m\u001b[0m\u001b[0;34m\u001b[0m\u001b[0m\n\u001b[0m\u001b[1;32m    872\u001b[0m     \u001b[0;32mfinally\u001b[0m\u001b[0;34m:\u001b[0m\u001b[0;34m\u001b[0m\u001b[0;34m\u001b[0m\u001b[0m\n\u001b[1;32m    873\u001b[0m       \u001b[0;31m# At this point we know that the initialization is complete (or less\u001b[0m\u001b[0;34m\u001b[0m\u001b[0;34m\u001b[0m\u001b[0;34m\u001b[0m\u001b[0m\n",
            "\u001b[0;32m/usr/local/lib/python3.7/dist-packages/tensorflow/python/eager/def_function.py\u001b[0m in \u001b[0;36m_initialize\u001b[0;34m(self, args, kwds, add_initializers_to)\u001b[0m\n\u001b[1;32m    724\u001b[0m     self._concrete_stateful_fn = (\n\u001b[1;32m    725\u001b[0m         self._stateful_fn._get_concrete_function_internal_garbage_collected(  # pylint: disable=protected-access\n\u001b[0;32m--> 726\u001b[0;31m             *args, **kwds))\n\u001b[0m\u001b[1;32m    727\u001b[0m \u001b[0;34m\u001b[0m\u001b[0m\n\u001b[1;32m    728\u001b[0m     \u001b[0;32mdef\u001b[0m \u001b[0minvalid_creator_scope\u001b[0m\u001b[0;34m(\u001b[0m\u001b[0;34m*\u001b[0m\u001b[0munused_args\u001b[0m\u001b[0;34m,\u001b[0m \u001b[0;34m**\u001b[0m\u001b[0munused_kwds\u001b[0m\u001b[0;34m)\u001b[0m\u001b[0;34m:\u001b[0m\u001b[0;34m\u001b[0m\u001b[0;34m\u001b[0m\u001b[0m\n",
            "\u001b[0;32m/usr/local/lib/python3.7/dist-packages/tensorflow/python/eager/function.py\u001b[0m in \u001b[0;36m_get_concrete_function_internal_garbage_collected\u001b[0;34m(self, *args, **kwargs)\u001b[0m\n\u001b[1;32m   2967\u001b[0m       \u001b[0margs\u001b[0m\u001b[0;34m,\u001b[0m \u001b[0mkwargs\u001b[0m \u001b[0;34m=\u001b[0m \u001b[0;32mNone\u001b[0m\u001b[0;34m,\u001b[0m \u001b[0;32mNone\u001b[0m\u001b[0;34m\u001b[0m\u001b[0;34m\u001b[0m\u001b[0m\n\u001b[1;32m   2968\u001b[0m     \u001b[0;32mwith\u001b[0m \u001b[0mself\u001b[0m\u001b[0;34m.\u001b[0m\u001b[0m_lock\u001b[0m\u001b[0;34m:\u001b[0m\u001b[0;34m\u001b[0m\u001b[0;34m\u001b[0m\u001b[0m\n\u001b[0;32m-> 2969\u001b[0;31m       \u001b[0mgraph_function\u001b[0m\u001b[0;34m,\u001b[0m \u001b[0m_\u001b[0m \u001b[0;34m=\u001b[0m \u001b[0mself\u001b[0m\u001b[0;34m.\u001b[0m\u001b[0m_maybe_define_function\u001b[0m\u001b[0;34m(\u001b[0m\u001b[0margs\u001b[0m\u001b[0;34m,\u001b[0m \u001b[0mkwargs\u001b[0m\u001b[0;34m)\u001b[0m\u001b[0;34m\u001b[0m\u001b[0;34m\u001b[0m\u001b[0m\n\u001b[0m\u001b[1;32m   2970\u001b[0m     \u001b[0;32mreturn\u001b[0m \u001b[0mgraph_function\u001b[0m\u001b[0;34m\u001b[0m\u001b[0;34m\u001b[0m\u001b[0m\n\u001b[1;32m   2971\u001b[0m \u001b[0;34m\u001b[0m\u001b[0m\n",
            "\u001b[0;32m/usr/local/lib/python3.7/dist-packages/tensorflow/python/eager/function.py\u001b[0m in \u001b[0;36m_maybe_define_function\u001b[0;34m(self, args, kwargs)\u001b[0m\n\u001b[1;32m   3359\u001b[0m \u001b[0;34m\u001b[0m\u001b[0m\n\u001b[1;32m   3360\u001b[0m           \u001b[0mself\u001b[0m\u001b[0;34m.\u001b[0m\u001b[0m_function_cache\u001b[0m\u001b[0;34m.\u001b[0m\u001b[0mmissed\u001b[0m\u001b[0;34m.\u001b[0m\u001b[0madd\u001b[0m\u001b[0;34m(\u001b[0m\u001b[0mcall_context_key\u001b[0m\u001b[0;34m)\u001b[0m\u001b[0;34m\u001b[0m\u001b[0;34m\u001b[0m\u001b[0m\n\u001b[0;32m-> 3361\u001b[0;31m           \u001b[0mgraph_function\u001b[0m \u001b[0;34m=\u001b[0m \u001b[0mself\u001b[0m\u001b[0;34m.\u001b[0m\u001b[0m_create_graph_function\u001b[0m\u001b[0;34m(\u001b[0m\u001b[0margs\u001b[0m\u001b[0;34m,\u001b[0m \u001b[0mkwargs\u001b[0m\u001b[0;34m)\u001b[0m\u001b[0;34m\u001b[0m\u001b[0;34m\u001b[0m\u001b[0m\n\u001b[0m\u001b[1;32m   3362\u001b[0m           \u001b[0mself\u001b[0m\u001b[0;34m.\u001b[0m\u001b[0m_function_cache\u001b[0m\u001b[0;34m.\u001b[0m\u001b[0mprimary\u001b[0m\u001b[0;34m[\u001b[0m\u001b[0mcache_key\u001b[0m\u001b[0;34m]\u001b[0m \u001b[0;34m=\u001b[0m \u001b[0mgraph_function\u001b[0m\u001b[0;34m\u001b[0m\u001b[0;34m\u001b[0m\u001b[0m\n\u001b[1;32m   3363\u001b[0m \u001b[0;34m\u001b[0m\u001b[0m\n",
            "\u001b[0;32m/usr/local/lib/python3.7/dist-packages/tensorflow/python/eager/function.py\u001b[0m in \u001b[0;36m_create_graph_function\u001b[0;34m(self, args, kwargs, override_flat_arg_shapes)\u001b[0m\n\u001b[1;32m   3204\u001b[0m             \u001b[0marg_names\u001b[0m\u001b[0;34m=\u001b[0m\u001b[0marg_names\u001b[0m\u001b[0;34m,\u001b[0m\u001b[0;34m\u001b[0m\u001b[0;34m\u001b[0m\u001b[0m\n\u001b[1;32m   3205\u001b[0m             \u001b[0moverride_flat_arg_shapes\u001b[0m\u001b[0;34m=\u001b[0m\u001b[0moverride_flat_arg_shapes\u001b[0m\u001b[0;34m,\u001b[0m\u001b[0;34m\u001b[0m\u001b[0;34m\u001b[0m\u001b[0m\n\u001b[0;32m-> 3206\u001b[0;31m             capture_by_value=self._capture_by_value),\n\u001b[0m\u001b[1;32m   3207\u001b[0m         \u001b[0mself\u001b[0m\u001b[0;34m.\u001b[0m\u001b[0m_function_attributes\u001b[0m\u001b[0;34m,\u001b[0m\u001b[0;34m\u001b[0m\u001b[0;34m\u001b[0m\u001b[0m\n\u001b[1;32m   3208\u001b[0m         \u001b[0mfunction_spec\u001b[0m\u001b[0;34m=\u001b[0m\u001b[0mself\u001b[0m\u001b[0;34m.\u001b[0m\u001b[0mfunction_spec\u001b[0m\u001b[0;34m,\u001b[0m\u001b[0;34m\u001b[0m\u001b[0;34m\u001b[0m\u001b[0m\n",
            "\u001b[0;32m/usr/local/lib/python3.7/dist-packages/tensorflow/python/framework/func_graph.py\u001b[0m in \u001b[0;36mfunc_graph_from_py_func\u001b[0;34m(name, python_func, args, kwargs, signature, func_graph, autograph, autograph_options, add_control_dependencies, arg_names, op_return_value, collections, capture_by_value, override_flat_arg_shapes)\u001b[0m\n\u001b[1;32m    988\u001b[0m         \u001b[0m_\u001b[0m\u001b[0;34m,\u001b[0m \u001b[0moriginal_func\u001b[0m \u001b[0;34m=\u001b[0m \u001b[0mtf_decorator\u001b[0m\u001b[0;34m.\u001b[0m\u001b[0munwrap\u001b[0m\u001b[0;34m(\u001b[0m\u001b[0mpython_func\u001b[0m\u001b[0;34m)\u001b[0m\u001b[0;34m\u001b[0m\u001b[0;34m\u001b[0m\u001b[0m\n\u001b[1;32m    989\u001b[0m \u001b[0;34m\u001b[0m\u001b[0m\n\u001b[0;32m--> 990\u001b[0;31m       \u001b[0mfunc_outputs\u001b[0m \u001b[0;34m=\u001b[0m \u001b[0mpython_func\u001b[0m\u001b[0;34m(\u001b[0m\u001b[0;34m*\u001b[0m\u001b[0mfunc_args\u001b[0m\u001b[0;34m,\u001b[0m \u001b[0;34m**\u001b[0m\u001b[0mfunc_kwargs\u001b[0m\u001b[0;34m)\u001b[0m\u001b[0;34m\u001b[0m\u001b[0;34m\u001b[0m\u001b[0m\n\u001b[0m\u001b[1;32m    991\u001b[0m \u001b[0;34m\u001b[0m\u001b[0m\n\u001b[1;32m    992\u001b[0m       \u001b[0;31m# invariant: `func_outputs` contains only Tensors, CompositeTensors,\u001b[0m\u001b[0;34m\u001b[0m\u001b[0;34m\u001b[0m\u001b[0;34m\u001b[0m\u001b[0m\n",
            "\u001b[0;32m/usr/local/lib/python3.7/dist-packages/tensorflow/python/eager/def_function.py\u001b[0m in \u001b[0;36mwrapped_fn\u001b[0;34m(*args, **kwds)\u001b[0m\n\u001b[1;32m    632\u001b[0m             \u001b[0mxla_context\u001b[0m\u001b[0;34m.\u001b[0m\u001b[0mExit\u001b[0m\u001b[0;34m(\u001b[0m\u001b[0;34m)\u001b[0m\u001b[0;34m\u001b[0m\u001b[0;34m\u001b[0m\u001b[0m\n\u001b[1;32m    633\u001b[0m         \u001b[0;32melse\u001b[0m\u001b[0;34m:\u001b[0m\u001b[0;34m\u001b[0m\u001b[0;34m\u001b[0m\u001b[0m\n\u001b[0;32m--> 634\u001b[0;31m           \u001b[0mout\u001b[0m \u001b[0;34m=\u001b[0m \u001b[0mweak_wrapped_fn\u001b[0m\u001b[0;34m(\u001b[0m\u001b[0;34m)\u001b[0m\u001b[0;34m.\u001b[0m\u001b[0m__wrapped__\u001b[0m\u001b[0;34m(\u001b[0m\u001b[0;34m*\u001b[0m\u001b[0margs\u001b[0m\u001b[0;34m,\u001b[0m \u001b[0;34m**\u001b[0m\u001b[0mkwds\u001b[0m\u001b[0;34m)\u001b[0m\u001b[0;34m\u001b[0m\u001b[0;34m\u001b[0m\u001b[0m\n\u001b[0m\u001b[1;32m    635\u001b[0m         \u001b[0;32mreturn\u001b[0m \u001b[0mout\u001b[0m\u001b[0;34m\u001b[0m\u001b[0;34m\u001b[0m\u001b[0m\n\u001b[1;32m    636\u001b[0m \u001b[0;34m\u001b[0m\u001b[0m\n",
            "\u001b[0;32m/usr/local/lib/python3.7/dist-packages/tensorflow/python/framework/func_graph.py\u001b[0m in \u001b[0;36mwrapper\u001b[0;34m(*args, **kwargs)\u001b[0m\n\u001b[1;32m    975\u001b[0m           \u001b[0;32mexcept\u001b[0m \u001b[0mException\u001b[0m \u001b[0;32mas\u001b[0m \u001b[0me\u001b[0m\u001b[0;34m:\u001b[0m  \u001b[0;31m# pylint:disable=broad-except\u001b[0m\u001b[0;34m\u001b[0m\u001b[0;34m\u001b[0m\u001b[0m\n\u001b[1;32m    976\u001b[0m             \u001b[0;32mif\u001b[0m \u001b[0mhasattr\u001b[0m\u001b[0;34m(\u001b[0m\u001b[0me\u001b[0m\u001b[0;34m,\u001b[0m \u001b[0;34m\"ag_error_metadata\"\u001b[0m\u001b[0;34m)\u001b[0m\u001b[0;34m:\u001b[0m\u001b[0;34m\u001b[0m\u001b[0;34m\u001b[0m\u001b[0m\n\u001b[0;32m--> 977\u001b[0;31m               \u001b[0;32mraise\u001b[0m \u001b[0me\u001b[0m\u001b[0;34m.\u001b[0m\u001b[0mag_error_metadata\u001b[0m\u001b[0;34m.\u001b[0m\u001b[0mto_exception\u001b[0m\u001b[0;34m(\u001b[0m\u001b[0me\u001b[0m\u001b[0;34m)\u001b[0m\u001b[0;34m\u001b[0m\u001b[0;34m\u001b[0m\u001b[0m\n\u001b[0m\u001b[1;32m    978\u001b[0m             \u001b[0;32melse\u001b[0m\u001b[0;34m:\u001b[0m\u001b[0;34m\u001b[0m\u001b[0;34m\u001b[0m\u001b[0m\n\u001b[1;32m    979\u001b[0m               \u001b[0;32mraise\u001b[0m\u001b[0;34m\u001b[0m\u001b[0;34m\u001b[0m\u001b[0m\n",
            "\u001b[0;31mValueError\u001b[0m: in user code:\n\n    /usr/local/lib/python3.7/dist-packages/tensorflow/python/keras/engine/training.py:1478 predict_function  *\n        return step_function(self, iterator)\n    /usr/local/lib/python3.7/dist-packages/tensorflow/python/keras/engine/training.py:1468 step_function  **\n        outputs = model.distribute_strategy.run(run_step, args=(data,))\n    /usr/local/lib/python3.7/dist-packages/tensorflow/python/distribute/distribute_lib.py:1259 run\n        return self._extended.call_for_each_replica(fn, args=args, kwargs=kwargs)\n    /usr/local/lib/python3.7/dist-packages/tensorflow/python/distribute/distribute_lib.py:2730 call_for_each_replica\n        return self._call_for_each_replica(fn, args, kwargs)\n    /usr/local/lib/python3.7/dist-packages/tensorflow/python/distribute/distribute_lib.py:3417 _call_for_each_replica\n        return fn(*args, **kwargs)\n    /usr/local/lib/python3.7/dist-packages/tensorflow/python/keras/engine/training.py:1461 run_step  **\n        outputs = model.predict_step(data)\n    /usr/local/lib/python3.7/dist-packages/tensorflow/python/keras/engine/training.py:1434 predict_step\n        return self(x, training=False)\n    /usr/local/lib/python3.7/dist-packages/tensorflow/python/keras/engine/base_layer.py:998 __call__\n        input_spec.assert_input_compatibility(self.input_spec, inputs, self.name)\n    /usr/local/lib/python3.7/dist-packages/tensorflow/python/keras/engine/input_spec.py:274 assert_input_compatibility\n        ', found shape=' + display_shape(x.shape))\n\n    ValueError: Input 0 is incompatible with layer model_1: expected shape=(None, 150, 150, 3), found shape=(32, 299, 299, 3)\n"
          ]
        }
      ]
    },
    {
      "cell_type": "code",
      "metadata": {
        "colab": {
          "base_uri": "https://localhost:8080/"
        },
        "id": "8DAXimmwUGsV",
        "outputId": "d17e2b7a-4b29-4adf-952e-523abce9308f"
      },
      "source": [
        "# for inceptionresnetv2\n",
        "data_1 = imgprocess((150,150),'gender',random_sample)"
      ],
      "execution_count": null,
      "outputs": [
        {
          "output_type": "stream",
          "text": [
            "100%|██████████| 4000/4000 [00:07<00:00, 554.69it/s]\n"
          ],
          "name": "stderr"
        }
      ]
    },
    {
      "cell_type": "code",
      "metadata": {
        "id": "X38X_UZAjU0j"
      },
      "source": [
        "x_train_1, x_test_1, y_train_1, y_test_1 = train_test_split(data_1['images'],data_1['labels'],test_size=0.2, random_state=500)\n",
        "x_train_1, x_val_1, y_train_1, y_val_1 = train_test_split(x_train_1,y_train_1,test_size=0.2, random_state=500)"
      ],
      "execution_count": null,
      "outputs": []
    },
    {
      "cell_type": "code",
      "metadata": {
        "id": "oEdv9nHkjVPU"
      },
      "source": [
        "del data_1"
      ],
      "execution_count": null,
      "outputs": []
    },
    {
      "cell_type": "code",
      "metadata": {
        "colab": {
          "base_uri": "https://localhost:8080/"
        },
        "id": "jjp7iAIKjXkt",
        "outputId": "ab017580-55c2-4c56-c45d-8a43e8201ef6"
      },
      "source": [
        "h5 = 'inceptionresnetV2'\n",
        "y_test_1D = to1Dtensor(y_test)\n",
        "test_datagen = ImageDataGenerator(preprocessing_function=preprocess_input)\n",
        "test_data = test_datagen.flow(x_test,y_test,batch_size=batch_size)\n",
        "test = load_model(f'/content/model-old/{h5}.h5')\n",
        "loss,acc = test.evaluate_generator(test_data, verbose=1)\n",
        "print(f'{h5}_loss:{loss}_accuracy:{acc}')\n",
        "predictions = test.predict(x=preprocess_input(x_test), verbose=1)\n",
        "pred_1D = to1Dtensor(predictions)\n",
        "cm = tf.math.confusion_matrix(y_test_1D, pred_1D, num_classes=2, weights=None, dtype=tf.dtypes.int32, name=h5)\n",
        "print(f'{h5}_confusion_matrix:{cm}')\n",
        "metric = tfa.metrics.F1Score(num_classes=1,threshold=0.5)\n",
        "y_t = np.array(y_test_1D).reshape(len(y_test_1D),1)\n",
        "y_p = np.array(pred_1D).reshape(len(pred_1D),1)\n",
        "metric.update_state(y_t, y_p)\n",
        "result=metric.result()\n",
        "print(f'{h5}_F1_score:{result.numpy()}')"
      ],
      "execution_count": null,
      "outputs": [
        {
          "output_type": "stream",
          "text": [
            "/usr/local/lib/python3.7/dist-packages/tensorflow/python/keras/engine/training.py:1877: UserWarning: `Model.evaluate_generator` is deprecated and will be removed in a future version. Please use `Model.evaluate`, which supports generators.\n",
            "  warnings.warn('`Model.evaluate_generator` is deprecated and '\n"
          ],
          "name": "stderr"
        },
        {
          "output_type": "stream",
          "text": [
            "25/25 [==============================] - 68s 3s/step - loss: 0.5378 - accuracy: 0.8313\n",
            "inceptionresnetV2_loss:0.5378101468086243_accuracy:0.831250011920929\n",
            "25/25 [==============================] - 67s 3s/step\n",
            "inceptionresnetV2_confusion_matrix:[[262 124]\n",
            " [ 11 403]]\n",
            "inceptionresnetV2_F1_score:[0.8565356]\n"
          ],
          "name": "stdout"
        }
      ]
    },
    {
      "cell_type": "code",
      "metadata": {
        "colab": {
          "base_uri": "https://localhost:8080/"
        },
        "id": "CiLXSRgHltkn",
        "outputId": "36aeb463-7784-4e00-c3c3-ea8ee8538141"
      },
      "source": [
        "# ensemble \n",
        "h5list = ['inceptionV3','inceptionV3_0','inceptionV3_1']\n",
        "# 'inceptionresnetV2'\n",
        "dict_pred = {}\n",
        "for h5 in h5list:\n",
        "  test = load_model(f'/content/model-old/{h5}.h5')\n",
        "  predictions = test.predict(x=preprocess_input(x_test), verbose=1)\n",
        "  dict_pred[h5]=predictions"
      ],
      "execution_count": null,
      "outputs": [
        {
          "output_type": "stream",
          "text": [
            "25/25 [==============================] - 146s 6s/step\n",
            "WARNING:tensorflow:Error in loading the saved optimizer state. As a result, your model is starting with a freshly initialized optimizer.\n",
            "25/25 [==============================] - 145s 6s/step\n",
            "25/25 [==============================] - 146s 6s/step\n"
          ],
          "name": "stdout"
        }
      ]
    },
    {
      "cell_type": "code",
      "metadata": {
        "colab": {
          "base_uri": "https://localhost:8080/"
        },
        "id": "4bRxd1XPvdv2",
        "outputId": "2010e65d-62e1-4c7f-c8c7-d6086a75470b"
      },
      "source": [
        "h5 = 'inceptionresnetV2'\n",
        "test = load_model(f'/content/model-old/{h5}.h5')\n",
        "predictions = test.predict(x=preprocess_input(x_test_1), verbose=1)\n",
        "dict_pred[h5]=predictions"
      ],
      "execution_count": null,
      "outputs": [
        {
          "output_type": "stream",
          "text": [
            "25/25 [==============================] - 67s 3s/step\n"
          ],
          "name": "stdout"
        }
      ]
    },
    {
      "cell_type": "code",
      "metadata": {
        "colab": {
          "base_uri": "https://localhost:8080/"
        },
        "id": "iP29HYE-pj1X",
        "outputId": "ca7440ab-3bf9-40bb-e862-aa6090fb78e5"
      },
      "source": [
        "dict_pred.keys()"
      ],
      "execution_count": null,
      "outputs": [
        {
          "output_type": "execute_result",
          "data": {
            "text/plain": [
              "dict_keys(['inceptionV3', 'inceptionV3_0', 'inceptionV3_1', 'inceptionresnetV2'])"
            ]
          },
          "metadata": {
            "tags": []
          },
          "execution_count": 39
        }
      ]
    },
    {
      "cell_type": "code",
      "metadata": {
        "id": "PfNykJ-Htd-V"
      },
      "source": [
        "mean_pred_1 = (dict_pred['inceptionV3']+dict_pred['inceptionV3_0']+dict_pred['inceptionV3_1'])/3\n",
        "mean_pred_2 = (dict_pred['inceptionV3']+dict_pred['inceptionV3_0']+dict_pred['inceptionV3_1']+dict_pred['inceptionresnetV2'])/4\n",
        "mean_pred = (mean_pred_1+mean_pred_2)/2"
      ],
      "execution_count": null,
      "outputs": []
    },
    {
      "cell_type": "code",
      "metadata": {
        "id": "O6ssdJnzuCn-"
      },
      "source": [
        "def meanmatric(mean_pred):\n",
        "  y_test_1D = to1Dtensor(y_test)\n",
        "  pred_1D = to1Dtensor(mean_pred)\n",
        "  cm = tf.math.confusion_matrix(y_test_1D, pred_1D, num_classes=2, weights=None, dtype=tf.dtypes.int32)\n",
        "  print(f'{h5}_confusion_matrix:{cm}')\n",
        "  metric = tfa.metrics.F1Score(num_classes=1,threshold=0.5)\n",
        "  y_t = np.array(y_test_1D).reshape(len(y_test_1D),1)\n",
        "  y_p = np.array(pred_1D).reshape(len(pred_1D),1)\n",
        "  metric.update_state(y_t, y_p)\n",
        "  result=metric.result()\n",
        "  print(f'{h5}_F1_score:{result.numpy()}')"
      ],
      "execution_count": null,
      "outputs": []
    },
    {
      "cell_type": "code",
      "metadata": {
        "colab": {
          "base_uri": "https://localhost:8080/"
        },
        "id": "vQwZtr1Rv8W5",
        "outputId": "89b86d0e-69df-4fcf-d7fd-d82667fdff49"
      },
      "source": [
        "meanmatric(mean_pred_1)"
      ],
      "execution_count": null,
      "outputs": [
        {
          "output_type": "stream",
          "text": [
            "inceptionresnetV2_confusion_matrix:[[335  51]\n",
            " [ 28 386]]\n",
            "inceptionresnetV2_F1_score:[0.90716803]\n"
          ],
          "name": "stdout"
        }
      ]
    },
    {
      "cell_type": "code",
      "metadata": {
        "colab": {
          "base_uri": "https://localhost:8080/"
        },
        "id": "QJ1wGEkJyD81",
        "outputId": "70b31184-885d-4ac7-bda0-43778a9c7efa"
      },
      "source": [
        "meanmatric(mean_pred_2)"
      ],
      "execution_count": null,
      "outputs": [
        {
          "output_type": "stream",
          "text": [
            "inceptionresnetV2_confusion_matrix:[[328  58]\n",
            " [ 19 395]]\n",
            "inceptionresnetV2_F1_score:[0.91118795]\n"
          ],
          "name": "stdout"
        }
      ]
    },
    {
      "cell_type": "code",
      "metadata": {
        "colab": {
          "base_uri": "https://localhost:8080/"
        },
        "id": "NrJnuMHnyEYO",
        "outputId": "321aa1d2-9f41-4eea-df74-adadc6fc43b9"
      },
      "source": [
        "meanmatric(mean_pred)"
      ],
      "execution_count": null,
      "outputs": [
        {
          "output_type": "stream",
          "text": [
            "inceptionresnetV2_confusion_matrix:[[331  55]\n",
            " [ 20 394]]\n",
            "inceptionresnetV2_F1_score:[0.9130938]\n"
          ],
          "name": "stdout"
        }
      ]
    },
    {
      "cell_type": "code",
      "metadata": {
        "id": "15knzNAlyIW9"
      },
      "source": [
        ""
      ],
      "execution_count": null,
      "outputs": []
    }
  ]
}