{
  "nbformat": 4,
  "nbformat_minor": 0,
  "metadata": {
    "colab": {
      "name": "專題實做圖像final_model_loader.ipynb",
      "provenance": [],
      "collapsed_sections": [],
      "authorship_tag": "ABX9TyMiOLcjsuJtg+/r4cyJSkaw",
      "include_colab_link": true
    },
    "kernelspec": {
      "name": "python3",
      "display_name": "Python 3"
    },
    "language_info": {
      "name": "python"
    }
  },
  "cells": [
    {
      "cell_type": "markdown",
      "metadata": {
        "id": "view-in-github",
        "colab_type": "text"
      },
      "source": [
        "<a href=\"https://colab.research.google.com/github/williamchi64/williamchi64/blob/main/%E7%94%A2%E6%A5%AD%E6%96%B0%E5%B0%96%E5%85%B5%E5%B0%88%E9%A1%8C%E5%AF%A6%E5%81%9A/final_model_loader.ipynb\" target=\"_parent\"><img src=\"https://colab.research.google.com/assets/colab-badge.svg\" alt=\"Open In Colab\"/></a>"
      ]
    },
    {
      "cell_type": "code",
      "metadata": {
        "colab": {
          "base_uri": "https://localhost:8080/"
        },
        "id": "RoEwNDtry6hA",
        "outputId": "00d9335a-0a3c-4316-c3d4-66b1366e3b88"
      },
      "source": [
        "!mkdir model-old\n",
        "!gdown -O /content/model-old/inceptionV3.h5 https://drive.google.com/uc?id=1Va4prDpkot0K3sntwUrjQDYLB3POP9i2\n",
        "!gdown -O /content/model-old/inceptionV3_0.h5 https://drive.google.com/uc?id=150_X4rkaHUJdUPtlEiFIOMfIazFbyTiW\n",
        "!gdown -O /content/model-old/inceptionV3_1.h5 https://drive.google.com/uc?id=1f19b-rSSnWfPonBTZS06NsZzHKQvMFSY\n",
        "!gdown -O /content/model-old/inceptionresnetV2.h5 https://drive.google.com/uc?id=1zXw0907GLvXiHwXiLpgXrZsdoNUu87mI"
      ],
      "execution_count": null,
      "outputs": [
        {
          "output_type": "stream",
          "text": [
            "Downloading...\n",
            "From: https://drive.google.com/uc?id=1Va4prDpkot0K3sntwUrjQDYLB3POP9i2\n",
            "To: /content/model-old/inceptionV3.h5\n",
            "89.7MB [00:00, 117MB/s]\n",
            "Downloading...\n",
            "From: https://drive.google.com/uc?id=150_X4rkaHUJdUPtlEiFIOMfIazFbyTiW\n",
            "To: /content/model-old/inceptionV3_0.h5\n",
            "140MB [00:01, 107MB/s]\n",
            "Downloading...\n",
            "From: https://drive.google.com/uc?id=1f19b-rSSnWfPonBTZS06NsZzHKQvMFSY\n",
            "To: /content/model-old/inceptionV3_1.h5\n",
            "199MB [00:01, 156MB/s]\n",
            "Downloading...\n",
            "From: https://drive.google.com/uc?id=1zXw0907GLvXiHwXiLpgXrZsdoNUu87mI\n",
            "To: /content/model-old/inceptionresnetV2.h5\n",
            "246MB [00:01, 141MB/s] \n"
          ],
          "name": "stdout"
        }
      ]
    },
    {
      "cell_type": "code",
      "metadata": {
        "id": "COfNIngl1QOA"
      },
      "source": [
        "import cv2\n",
        "import numpy as np\n",
        "from tensorflow.keras.models import load_model\n",
        "from tensorflow.keras.applications.inception_v3 import preprocess_input"
      ],
      "execution_count": null,
      "outputs": []
    },
    {
      "cell_type": "code",
      "metadata": {
        "id": "NSY4UF9B31fo"
      },
      "source": [
        "# get image\n",
        "img = cv2.imread('/content/IMG_1282.jpg')"
      ],
      "execution_count": null,
      "outputs": []
    },
    {
      "cell_type": "code",
      "metadata": {
        "id": "tfKTs-RoznS9"
      },
      "source": [
        "# reshape imput image\n",
        "img = cv2.resize(img, (299,299))\n",
        "img_1 = cv2.resize(img, (150,150))\n",
        "img = img.reshape(1,299,299,3)\n",
        "img_1 = img_1.reshape(1,150,150,3)"
      ],
      "execution_count": null,
      "outputs": []
    },
    {
      "cell_type": "code",
      "metadata": {
        "colab": {
          "base_uri": "https://localhost:8080/"
        },
        "id": "peYmkKmH1Ubm",
        "outputId": "1c1c5c22-ef16-4ce6-c94a-64dd0450a047"
      },
      "source": [
        "# load model and predict the result\n",
        "h5list = ['inceptionV3','inceptionV3_0','inceptionV3_1']\n",
        "dict_pred = {}\n",
        "for h5 in h5list:\n",
        "  test = load_model(f'/content/model-old/{h5}.h5')\n",
        "  predictions = test.predict(x=preprocess_input(img), verbose=0)\n",
        "  dict_pred[h5]=predictions\n",
        "h5 = 'inceptionresnetV2'\n",
        "test = load_model(f'/content/model-old/{h5}.h5')\n",
        "predictions = test.predict(x=preprocess_input(img_1), verbose=0)\n",
        "dict_pred[h5]=predictions"
      ],
      "execution_count": null,
      "outputs": [
        {
          "output_type": "stream",
          "text": [
            "WARNING:tensorflow:Error in loading the saved optimizer state. As a result, your model is starting with a freshly initialized optimizer.\n"
          ],
          "name": "stdout"
        }
      ]
    },
    {
      "cell_type": "code",
      "metadata": {
        "id": "N7H8WFvQ2Wvy"
      },
      "source": [
        "# ensemble model\n",
        "mean_pred_1 = (dict_pred['inceptionV3']+dict_pred['inceptionV3_0']+dict_pred['inceptionV3_1'])/3\n",
        "mean_pred_2 = (dict_pred['inceptionV3']+dict_pred['inceptionV3_0']+dict_pred['inceptionV3_1']+dict_pred['inceptionresnetV2'])/4\n",
        "mean_pred = (mean_pred_1+mean_pred_2)/2"
      ],
      "execution_count": null,
      "outputs": []
    },
    {
      "cell_type": "code",
      "metadata": {
        "id": "3ORRirwucQFm",
        "colab": {
          "base_uri": "https://localhost:8080/"
        },
        "outputId": "7a77f054-4043-4df6-a72c-077e7ef25653"
      },
      "source": [
        "mean_pred"
      ],
      "execution_count": null,
      "outputs": [
        {
          "output_type": "execute_result",
          "data": {
            "text/plain": [
              "array([[0.3655045, 0.6344955]], dtype=float32)"
            ]
          },
          "metadata": {
            "tags": []
          },
          "execution_count": 8
        }
      ]
    },
    {
      "cell_type": "code",
      "metadata": {
        "colab": {
          "base_uri": "https://localhost:8080/"
        },
        "id": "-VS67xWC2k3c",
        "outputId": "ddd7498f-0154-4123-98de-e15b79511155"
      },
      "source": [
        "# determine the result\n",
        "if np.round(mean_pred)[0,0] == 1:\n",
        "  print('Female')\n",
        "elif np.round(mean_pred)[0,1] == 1:\n",
        "  print('male')\n",
        "else:\n",
        "  print('cannot tell the difference')"
      ],
      "execution_count": null,
      "outputs": [
        {
          "output_type": "stream",
          "text": [
            "male\n"
          ],
          "name": "stdout"
        }
      ]
    },
    {
      "cell_type": "code",
      "metadata": {
        "id": "AoBR699Q3nN8"
      },
      "source": [
        ""
      ],
      "execution_count": null,
      "outputs": []
    }
  ]
}